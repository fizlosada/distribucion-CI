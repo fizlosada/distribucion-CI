{
 "cells": [
  {
   "cell_type": "markdown",
   "id": "5fe0d308",
   "metadata": {},
   "source": [
    "<h2>Distribución Normal del Coeficiente Intelectual (CI)</h2>"
   ]
  },
  {
   "cell_type": "markdown",
   "id": "27a48186",
   "metadata": {},
   "source": [
    "<p>Este gráfico muestra la distribución normal del Coeficiente Intelectual (CI), con una media de 100 y una desviación estándar de 15. El CI es una medida estandarizada de la capacidad intelectual de una persona, donde la media representa el CI promedio de la población y la desviación estándar indica la variabilidad.</p>\n",
    "\n",
    "<p>Ingresa un valor de CI para ver su posición en esta distribución y calcular el percentil correspondiente:</p>"
   ]
  },
  {
   "cell_type": "code",
   "execution_count": 1,
   "id": "123dd94c",
   "metadata": {},
   "outputs": [],
   "source": [
    "import numpy as np\n",
    "import scipy.stats as stats\n",
    "import matplotlib.pyplot as plt\n",
    "import seaborn as sns\n",
    "import ipywidgets as widgets\n",
    "from ipywidgets import interact\n",
    "from IPython.display import display, HTML\n",
    "\n",
    "# Parámetros de la distribución normal para CI\n",
    "mu = 100\n",
    "sigma = 15\n",
    "\n",
    "# Crear un rango de valores de CI\n",
    "ci_values = np.linspace(mu - 4 * sigma, mu + 4 * sigma, 1000)\n",
    "pdf_values = stats.norm.pdf(ci_values, mu, sigma)\n",
    "\n",
    "# Tabla de resultados\n",
    "output_table = widgets.Output()\n",
    "\n",
    "def plot_ci_distribution(ci_objetivo_text):\n",
    "    try:\n",
    "        ci_objetivo = float(ci_objetivo_text)\n",
    "    except ValueError:\n",
    "        print(\"Por favor, introduce un número válido.\")\n",
    "        return\n",
    "    \n",
    "    # Calcular el percentil\n",
    "    percentil = stats.norm.cdf(ci_objetivo, mu, sigma) * 100\n",
    "    \n",
    "    # Crear la gráfica\n",
    "    sns.set(style=\"whitegrid\")\n",
    "    \n",
    "    plt.figure(figsize=(10, 6))\n",
    "    plt.plot(ci_values, pdf_values, label='Distribución normal (µ=100, σ=15)', color='blue')\n",
    "    plt.axvline(ci_objetivo, color='red', linestyle='--', label=f'CI = {ci_objetivo} (Percentil: {percentil:.2f})')\n",
    "    plt.fill_between(ci_values, pdf_values, where=(ci_values >= ci_objetivo), color='red', alpha=0.3)\n",
    "    plt.title('Distribución normal del Coeficiente Intelectual')\n",
    "    plt.xlabel('Coeficiente Intelectual')\n",
    "    plt.ylabel('Densidad de probabilidad')\n",
    "    plt.legend()\n",
    "    plt.show()\n",
    "    \n",
    "    # Mostrar resultado en formato de tabla\n",
    "    with output_table:\n",
    "        output_table.clear_output()\n",
    "        display(HTML(f\"\"\"\n",
    "        <h4>Resultado</h4>\n",
    "        <table>\n",
    "            <tr>\n",
    "                <th>CI</th>\n",
    "                <th>Percentil</th>\n",
    "            </tr>\n",
    "            <tr>\n",
    "                <td>{ci_objetivo}</td>\n",
    "                <td>{percentil:.2f}</td>\n",
    "            </tr>\n",
    "        </table>\n",
    "        \"\"\"))\n",
    "\n",
    "# Crear el widget de entrada de texto\n",
    "ci_text = widgets.Text(\n",
    "    value='100',\n",
    "    description='CI:',\n",
    "    disabled=False\n",
    ")"
   ]
  },
  {
   "cell_type": "code",
   "execution_count": 2,
   "id": "0953a6ac",
   "metadata": {},
   "outputs": [
    {
     "data": {
      "application/vnd.jupyter.widget-view+json": {
       "model_id": "8bc4dd497d0f407a80ea4d1f855743a2",
       "version_major": 2,
       "version_minor": 0
      },
      "text/plain": [
       "interactive(children=(Text(value='100', description='CI:'), Output()), _dom_classes=('widget-interact',))"
      ]
     },
     "metadata": {},
     "output_type": "display_data"
    },
    {
     "data": {
      "application/vnd.jupyter.widget-view+json": {
       "model_id": "2440cd3936744199b0bfaa113ff03bfe",
       "version_major": 2,
       "version_minor": 0
      },
      "text/plain": [
       "Output()"
      ]
     },
     "metadata": {},
     "output_type": "display_data"
    }
   ],
   "source": [
    "# Crear la interacción\n",
    "interact(plot_ci_distribution,ci_objetivo_text=ci_text)\n",
    "display(output_table)"
   ]
  },
  {
   "cell_type": "code",
   "execution_count": null,
   "id": "9a94081f",
   "metadata": {},
   "outputs": [],
   "source": []
  }
 ],
 "metadata": {
  "kernelspec": {
   "display_name": "Python 3 (ipykernel)",
   "language": "python",
   "name": "python3"
  },
  "language_info": {
   "codemirror_mode": {
    "name": "ipython",
    "version": 3
   },
   "file_extension": ".py",
   "mimetype": "text/x-python",
   "name": "python",
   "nbconvert_exporter": "python",
   "pygments_lexer": "ipython3",
   "version": "3.9.7"
  }
 },
 "nbformat": 4,
 "nbformat_minor": 5
}
